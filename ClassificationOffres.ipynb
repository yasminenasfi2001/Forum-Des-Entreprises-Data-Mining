{
 "cells": [
  {
   "cell_type": "code",
   "execution_count": 1,
   "id": "0101dc4e",
   "metadata": {},
   "outputs": [],
   "source": [
    "import pandas as pd\n",
    "import seaborn as sns\n",
    "import matplotlib.pyplot as plt\n",
    "import re\n",
    "from sklearn.feature_extraction.text import TfidfVectorizer\n",
    "import numpy as np\n",
    "from sklearn.pipeline import Pipeline\n",
    "from sklearn.ensemble import RandomForestClassifier\n",
    "from sklearn.feature_extraction.text import TfidfVectorizer\n",
    "from sklearn.neighbors import KNeighborsClassifier\n",
    "from sklearn.ensemble import AdaBoostClassifier\n",
    "import pickle\n",
    "import streamlit as st\n",
    "from sklearn.preprocessing import LabelEncoder\n",
    "from sklearn.preprocessing import StandardScaler\n",
    "from sklearn.model_selection import train_test_split\n",
    "from sklearn.metrics import accuracy_score\n",
    "from sklearn.linear_model import LogisticRegression\n",
    "from sklearn.tree import DecisionTreeClassifier\n",
    "from sklearn.neighbors import KNeighborsClassifier"
   ]
  },
  {
   "cell_type": "markdown",
   "id": "157f3f65",
   "metadata": {},
   "source": [
    "# I Compréhension des données"
   ]
  },
  {
   "cell_type": "code",
   "execution_count": 2,
   "id": "6cd161bf",
   "metadata": {},
   "outputs": [],
   "source": [
    "data = pd.read_csv('offres.csv') #de notre bd  (test mtaa les modèles)"
   ]
  },
  {
   "cell_type": "code",
   "execution_count": 3,
   "id": "936e840d",
   "metadata": {},
   "outputs": [],
   "source": [
    "data1 = pd.read_csv('linkedin-jobs-noduplicates.csv') #mtaa webscraping(entrainement mtaa  les modèles)"
   ]
  },
  {
   "cell_type": "code",
   "execution_count": 4,
   "id": "582d59f5",
   "metadata": {},
   "outputs": [
    {
     "data": {
      "text/html": [
       "<div>\n",
       "<style scoped>\n",
       "    .dataframe tbody tr th:only-of-type {\n",
       "        vertical-align: middle;\n",
       "    }\n",
       "\n",
       "    .dataframe tbody tr th {\n",
       "        vertical-align: top;\n",
       "    }\n",
       "\n",
       "    .dataframe thead th {\n",
       "        text-align: right;\n",
       "    }\n",
       "</style>\n",
       "<table border=\"1\" class=\"dataframe\">\n",
       "  <thead>\n",
       "    <tr style=\"text-align: right;\">\n",
       "      <th></th>\n",
       "      <th>id_offre</th>\n",
       "      <th>date_de_creation</th>\n",
       "      <th>description</th>\n",
       "      <th>intitule</th>\n",
       "      <th>nb_places</th>\n",
       "      <th>user_id</th>\n",
       "      <th>image</th>\n",
       "      <th>sessions_id_session</th>\n",
       "      <th>qrcode</th>\n",
       "    </tr>\n",
       "  </thead>\n",
       "  <tbody>\n",
       "    <tr>\n",
       "      <th>0</th>\n",
       "      <td>1</td>\n",
       "      <td>2024-03-01 23:41:03.000000</td>\n",
       "      <td>A high-level programming language</td>\n",
       "      <td>Java Developper</td>\n",
       "      <td>2</td>\n",
       "      <td>2.0</td>\n",
       "      <td>https://www.actia.com/images/logo-actia.png</td>\n",
       "      <td>1.0</td>\n",
       "      <td>NaN</td>\n",
       "    </tr>\n",
       "    <tr>\n",
       "      <th>1</th>\n",
       "      <td>6</td>\n",
       "      <td>2024-03-03 18:47:14.000000</td>\n",
       "      <td>Creer des algorithmes d'apprentissage automatique</td>\n",
       "      <td>Ingenieur Data Science</td>\n",
       "      <td>2</td>\n",
       "      <td>4.0</td>\n",
       "      <td>/assets/vermegpng.png</td>\n",
       "      <td>1.0</td>\n",
       "      <td>NaN</td>\n",
       "    </tr>\n",
       "    <tr>\n",
       "      <th>2</th>\n",
       "      <td>18</td>\n",
       "      <td>2024-03-06 23:08:46.000000</td>\n",
       "      <td>Conception et developpement de logiciels embar...</td>\n",
       "      <td>Stage Ingénieur Systemes Embarques (1 an d'exp...</td>\n",
       "      <td>1</td>\n",
       "      <td>2.0</td>\n",
       "      <td>https://www.actia.com/images/logo-actia.png</td>\n",
       "      <td>1.0</td>\n",
       "      <td>NaN</td>\n",
       "    </tr>\n",
       "    <tr>\n",
       "      <th>3</th>\n",
       "      <td>20</td>\n",
       "      <td>2024-03-06 23:33:59.000000</td>\n",
       "      <td>Developpement d'une application web native</td>\n",
       "      <td>react js et react native</td>\n",
       "      <td>5</td>\n",
       "      <td>2.0</td>\n",
       "      <td>https://www.actia.com/images/logo-actia.png</td>\n",
       "      <td>1.0</td>\n",
       "      <td>http://api.qrserver.com/v1/create-qr-code/?dat...</td>\n",
       "    </tr>\n",
       "    <tr>\n",
       "      <th>4</th>\n",
       "      <td>22</td>\n",
       "      <td>2024-03-31 22:39:48.000000</td>\n",
       "      <td>Expérience dans le développement de firmwares ...</td>\n",
       "      <td>Stage Développeur Firmware (6 mois d'expérience)</td>\n",
       "      <td>3</td>\n",
       "      <td>4.0</td>\n",
       "      <td>/assets/vermegpng.png</td>\n",
       "      <td>1.0</td>\n",
       "      <td>NaN</td>\n",
       "    </tr>\n",
       "  </tbody>\n",
       "</table>\n",
       "</div>"
      ],
      "text/plain": [
       "   id_offre            date_de_creation  \\\n",
       "0         1  2024-03-01 23:41:03.000000   \n",
       "1         6  2024-03-03 18:47:14.000000   \n",
       "2        18  2024-03-06 23:08:46.000000   \n",
       "3        20  2024-03-06 23:33:59.000000   \n",
       "4        22  2024-03-31 22:39:48.000000   \n",
       "\n",
       "                                         description  \\\n",
       "0                  A high-level programming language   \n",
       "1  Creer des algorithmes d'apprentissage automatique   \n",
       "2  Conception et developpement de logiciels embar...   \n",
       "3         Developpement d'une application web native   \n",
       "4  Expérience dans le développement de firmwares ...   \n",
       "\n",
       "                                            intitule  nb_places  user_id  \\\n",
       "0                                    Java Developper          2      2.0   \n",
       "1                             Ingenieur Data Science          2      4.0   \n",
       "2  Stage Ingénieur Systemes Embarques (1 an d'exp...          1      2.0   \n",
       "3                           react js et react native          5      2.0   \n",
       "4  Stage Développeur Firmware (6 mois d'expérience)           3      4.0   \n",
       "\n",
       "                                         image  sessions_id_session  \\\n",
       "0  https://www.actia.com/images/logo-actia.png                  1.0   \n",
       "1                        /assets/vermegpng.png                  1.0   \n",
       "2  https://www.actia.com/images/logo-actia.png                  1.0   \n",
       "3  https://www.actia.com/images/logo-actia.png                  1.0   \n",
       "4                        /assets/vermegpng.png                  1.0   \n",
       "\n",
       "                                              qrcode  \n",
       "0                                                NaN  \n",
       "1                                                NaN  \n",
       "2                                                NaN  \n",
       "3  http://api.qrserver.com/v1/create-qr-code/?dat...  \n",
       "4                                                NaN  "
      ]
     },
     "execution_count": 4,
     "metadata": {},
     "output_type": "execute_result"
    }
   ],
   "source": [
    "data.head()"
   ]
  },
  {
   "cell_type": "code",
   "execution_count": 5,
   "id": "77a2abdc",
   "metadata": {},
   "outputs": [
    {
     "data": {
      "text/html": [
       "<div>\n",
       "<style scoped>\n",
       "    .dataframe tbody tr th:only-of-type {\n",
       "        vertical-align: middle;\n",
       "    }\n",
       "\n",
       "    .dataframe tbody tr th {\n",
       "        vertical-align: top;\n",
       "    }\n",
       "\n",
       "    .dataframe thead th {\n",
       "        text-align: right;\n",
       "    }\n",
       "</style>\n",
       "<table border=\"1\" class=\"dataframe\">\n",
       "  <thead>\n",
       "    <tr style=\"text-align: right;\">\n",
       "      <th></th>\n",
       "      <th>Title</th>\n",
       "      <th>Speciality</th>\n",
       "    </tr>\n",
       "  </thead>\n",
       "  <tbody>\n",
       "    <tr>\n",
       "      <th>0</th>\n",
       "      <td>Junior NodeJS/ReactJS Full-Stack Developer (H/F)</td>\n",
       "      <td>DWM</td>\n",
       "    </tr>\n",
       "    <tr>\n",
       "      <th>1</th>\n",
       "      <td>Full Stack Developer</td>\n",
       "      <td>DWM</td>\n",
       "    </tr>\n",
       "    <tr>\n",
       "      <th>2</th>\n",
       "      <td>Front-End Developer TN</td>\n",
       "      <td>DWM</td>\n",
       "    </tr>\n",
       "    <tr>\n",
       "      <th>3</th>\n",
       "      <td>React Developer</td>\n",
       "      <td>DWM</td>\n",
       "    </tr>\n",
       "    <tr>\n",
       "      <th>4</th>\n",
       "      <td>Software Engineer - Tunisia</td>\n",
       "      <td>AUTRE</td>\n",
       "    </tr>\n",
       "  </tbody>\n",
       "</table>\n",
       "</div>"
      ],
      "text/plain": [
       "                                              Title Speciality\n",
       "0  Junior NodeJS/ReactJS Full-Stack Developer (H/F)        DWM\n",
       "1                              Full Stack Developer        DWM\n",
       "2                            Front-End Developer TN        DWM\n",
       "3                                   React Developer        DWM\n",
       "4                       Software Engineer - Tunisia      AUTRE"
      ]
     },
     "execution_count": 5,
     "metadata": {},
     "output_type": "execute_result"
    }
   ],
   "source": [
    "data1.head()"
   ]
  },
  {
   "cell_type": "code",
   "execution_count": 6,
   "id": "1b1367b3",
   "metadata": {},
   "outputs": [
    {
     "name": "stdout",
     "output_type": "stream",
     "text": [
      "<class 'pandas.core.frame.DataFrame'>\n",
      "RangeIndex: 43 entries, 0 to 42\n",
      "Data columns (total 9 columns):\n",
      " #   Column               Non-Null Count  Dtype  \n",
      "---  ------               --------------  -----  \n",
      " 0   id_offre             43 non-null     int64  \n",
      " 1   date_de_creation     7 non-null      object \n",
      " 2   description          43 non-null     object \n",
      " 3   intitule             43 non-null     object \n",
      " 4   nb_places            43 non-null     int64  \n",
      " 5   user_id              39 non-null     float64\n",
      " 6   image                7 non-null      object \n",
      " 7   sessions_id_session  7 non-null      float64\n",
      " 8   qrcode               1 non-null      object \n",
      "dtypes: float64(2), int64(2), object(5)\n",
      "memory usage: 3.1+ KB\n",
      "None\n"
     ]
    }
   ],
   "source": [
    "print(data.info())"
   ]
  },
  {
   "cell_type": "code",
   "execution_count": 7,
   "id": "de3ec620",
   "metadata": {},
   "outputs": [
    {
     "name": "stdout",
     "output_type": "stream",
     "text": [
      "<class 'pandas.core.frame.DataFrame'>\n",
      "RangeIndex: 117 entries, 0 to 116\n",
      "Data columns (total 2 columns):\n",
      " #   Column      Non-Null Count  Dtype \n",
      "---  ------      --------------  ----- \n",
      " 0   Title       117 non-null    object\n",
      " 1   Speciality  117 non-null    object\n",
      "dtypes: object(2)\n",
      "memory usage: 2.0+ KB\n",
      "None\n"
     ]
    }
   ],
   "source": [
    "print(data1.info())"
   ]
  },
  {
   "cell_type": "code",
   "execution_count": 8,
   "id": "cf56de22",
   "metadata": {},
   "outputs": [
    {
     "name": "stdout",
     "output_type": "stream",
     "text": [
      "        id_offre  nb_places    user_id  sessions_id_session\n",
      "count  43.000000  43.000000  39.000000                  7.0\n",
      "mean   39.813953   2.302326  16.974359                  1.0\n",
      "std    14.760397   1.753023   8.427671                  0.0\n",
      "min     1.000000   0.000000   2.000000                  1.0\n",
      "25%    30.500000   1.000000  12.000000                  1.0\n",
      "50%    41.000000   2.000000  21.000000                  1.0\n",
      "75%    51.500000   3.000000  23.000000                  1.0\n",
      "max    62.000000   8.000000  24.000000                  1.0\n"
     ]
    }
   ],
   "source": [
    "print(data.describe())"
   ]
  },
  {
   "cell_type": "code",
   "execution_count": 9,
   "id": "cc5280b8",
   "metadata": {},
   "outputs": [
    {
     "name": "stdout",
     "output_type": "stream",
     "text": [
      "                                                   Title Speciality\n",
      "count                                                117        117\n",
      "unique                                               117          5\n",
      "top     Junior NodeJS/ReactJS Full-Stack Developer (H/F)        DWM\n",
      "freq                                                   1         62\n"
     ]
    }
   ],
   "source": [
    "print(data1.describe())"
   ]
  },
  {
   "cell_type": "code",
   "execution_count": 10,
   "id": "c68e8b39",
   "metadata": {},
   "outputs": [
    {
     "data": {
      "text/plain": [
       "id_offre               0.000000\n",
       "description            0.000000\n",
       "intitule               0.000000\n",
       "nb_places              0.000000\n",
       "user_id                0.093023\n",
       "date_de_creation       0.837209\n",
       "image                  0.837209\n",
       "sessions_id_session    0.837209\n",
       "qrcode                 0.976744\n",
       "dtype: float64"
      ]
     },
     "execution_count": 10,
     "metadata": {},
     "output_type": "execute_result"
    }
   ],
   "source": [
    "(data.isna().sum()/data.shape[0]).sort_values(ascending=True) "
   ]
  },
  {
   "cell_type": "code",
   "execution_count": 11,
   "id": "19e36eaa",
   "metadata": {},
   "outputs": [
    {
     "data": {
      "text/plain": [
       "Title         0.0\n",
       "Speciality    0.0\n",
       "dtype: float64"
      ]
     },
     "execution_count": 11,
     "metadata": {},
     "output_type": "execute_result"
    }
   ],
   "source": [
    "(data1.isna().sum()/data1.shape[0]).sort_values(ascending=True) "
   ]
  },
  {
   "cell_type": "code",
   "execution_count": 12,
   "id": "c5ea9cc1",
   "metadata": {},
   "outputs": [
    {
     "data": {
      "image/png": "[encoded data removed]",
      "text/plain": [
       "<Figure size 1000x600 with 1 Axes>"
      ]
     },
     "metadata": {},
     "output_type": "display_data"
    }
   ],
   "source": [
    "plt.figure(figsize=(10, 6))\n",
    "sns.heatmap(data.isnull(), cbar=False, cmap='viridis')\n",
    "plt.title('Heatmap des valeurs manquantes')\n",
    "plt.show()"
   ]
  },
  {
   "cell_type": "code",
   "execution_count": 13,
   "id": "c9197aa9",
   "metadata": {},
   "outputs": [
    {
     "data": {
      "image/png": "[encoded data removed]",
      "text/plain": [
       "<Figure size 1000x600 with 1 Axes>"
      ]
     },
     "metadata": {},
     "output_type": "display_data"
    }
   ],
   "source": [
    "plt.figure(figsize=(10, 6))\n",
    "sns.heatmap(data1.isnull(), cbar=False, cmap='viridis')\n",
    "plt.title('Heatmap des valeurs manquantes du 2eme dataset')\n",
    "plt.show()"
   ]
  },
  {
   "cell_type": "markdown",
   "id": "f5c85295",
   "metadata": {},
   "source": [
    "# Prepartion des données"
   ]
  },
  {
   "cell_type": "code",
   "execution_count": 14,
   "id": "582a2f3a",
   "metadata": {},
   "outputs": [],
   "source": [
    "data['description'] = data['description'].str.lower()\n",
    "data['intitule'] = data['intitule'].str.lower()"
   ]
  },
  {
   "cell_type": "code",
   "execution_count": 15,
   "id": "713f7ca0",
   "metadata": {},
   "outputs": [
    {
     "name": "stdout",
     "output_type": "stream",
     "text": [
      "   id_offre            date_de_creation  \\\n",
      "0         1  2024-03-01 23:41:03.000000   \n",
      "1         6  2024-03-03 18:47:14.000000   \n",
      "2        18  2024-03-06 23:08:46.000000   \n",
      "3        20  2024-03-06 23:33:59.000000   \n",
      "4        22  2024-03-31 22:39:48.000000   \n",
      "\n",
      "                                         description  \\\n",
      "0                  a high-level programming language   \n",
      "1  creer des algorithmes d'apprentissage automatique   \n",
      "2  conception et developpement de logiciels embar...   \n",
      "3         developpement d'une application web native   \n",
      "4  expérience dans le développement de firmwares ...   \n",
      "\n",
      "                                            intitule  nb_places  user_id  \\\n",
      "0                                    java developper          2      2.0   \n",
      "1                             ingenieur data science          2      4.0   \n",
      "2  stage ingénieur systemes embarques (1 an d'exp...          1      2.0   \n",
      "3                           react js et react native          5      2.0   \n",
      "4  stage développeur firmware (6 mois d'expérience)           3      4.0   \n",
      "\n",
      "                                         image  sessions_id_session  \\\n",
      "0  https://www.actia.com/images/logo-actia.png                  1.0   \n",
      "1                        /assets/vermegpng.png                  1.0   \n",
      "2  https://www.actia.com/images/logo-actia.png                  1.0   \n",
      "3  https://www.actia.com/images/logo-actia.png                  1.0   \n",
      "4                        /assets/vermegpng.png                  1.0   \n",
      "\n",
      "                                              qrcode  \n",
      "0                                                NaN  \n",
      "1                                                NaN  \n",
      "2                                                NaN  \n",
      "3  http://api.qrserver.com/v1/create-qr-code/?dat...  \n",
      "4                                                NaN  \n"
     ]
    }
   ],
   "source": [
    "print(data.head())"
   ]
  },
  {
   "cell_type": "markdown",
   "id": "3a966040",
   "metadata": {},
   "source": []
  },
  {
   "cell_type": "code",
   "execution_count": 16,
   "id": "4bdf8a5f",
   "metadata": {},
   "outputs": [],
   "source": [
    "# Sélectionner uniquement les colonnes 'description' et 'intitule'\n",
    "data_selected = data.loc[:, ['description', 'intitule']]"
   ]
  },
  {
   "cell_type": "code",
   "execution_count": 17,
   "id": "9e91f403",
   "metadata": {},
   "outputs": [
    {
     "name": "stdout",
     "output_type": "stream",
     "text": [
      "                                         description  \\\n",
      "0                  a high-level programming language   \n",
      "1  creer des algorithmes d'apprentissage automatique   \n",
      "2  conception et developpement de logiciels embar...   \n",
      "3         developpement d'une application web native   \n",
      "4  expérience dans le développement de firmwares ...   \n",
      "\n",
      "                                            intitule  \n",
      "0                                    java developper  \n",
      "1                             ingenieur data science  \n",
      "2  stage ingénieur systemes embarques (1 an d'exp...  \n",
      "3                           react js et react native  \n",
      "4  stage développeur firmware (6 mois d'expérience)   \n"
     ]
    }
   ],
   "source": [
    "print(data_selected.head())"
   ]
  },
  {
   "cell_type": "code",
   "execution_count": 18,
   "id": "989b29df",
   "metadata": {},
   "outputs": [],
   "source": [
    "# Tri aléatoire des lignes\n",
    "data_selected_random = data_selected.sample(frac=1)"
   ]
  },
  {
   "cell_type": "code",
   "execution_count": 19,
   "id": "59d4cf6b",
   "metadata": {},
   "outputs": [
    {
     "name": "stdout",
     "output_type": "stream",
     "text": [
      "                                          description  \\\n",
      "25  maîtrise de java, react.js, node.js et expérie...   \n",
      "22  expérience requise en php, laravel, vue.js et ...   \n",
      "7   participer au développement d'applications and...   \n",
      "11  travailler sur des projets utilisant react.js,...   \n",
      "6   gérer les déploiements cloud, la configuration...   \n",
      "5   gestion des infrastructures cloud, automatisat...   \n",
      "13  conception et développement d'applications ios...   \n",
      "33  joignez-vous à notre équipe en tant qu'ingénie...   \n",
      "20  participer à des projets utilisant vue.js, htm...   \n",
      "30  nous sommes à la recherche d'un développeur fi...   \n",
      "2   conception et developpement de logiciels embar...   \n",
      "16  contribuer à des projets python, notamment dan...   \n",
      "17  expérience avec react native, javascript et dé...   \n",
      "26  conception et développement d'applications web...   \n",
      "27   nous cherchons un analyste en science des don...   \n",
      "38  nous recherchons un développeur spécialisé dan...   \n",
      "1   creer des algorithmes d'apprentissage automatique   \n",
      "3          developpement d'une application web native   \n",
      "31  rejoignez notre équipe en tant qu'ingénieur em...   \n",
      "35  rejoignez notre équipe en tant que développeur...   \n",
      "24  travailler sur des projets java ee, spring fra...   \n",
      "12  expérience avec symfony, php et développement ...   \n",
      "9   expérience en python et développement d'algori...   \n",
      "15  maîtrise de html, css, javascript et framework...   \n",
      "28  nous recrutons un ingénieur en intelligence d'...   \n",
      "32  nous recherchons un développeur firmware expér...   \n",
      "8   conception et développement d'applications web...   \n",
      "18  conception et développement d'applications web...   \n",
      "42  nous cherchons un analyste en data science pou...   \n",
      "23  participation à la conception et au développem...   \n",
      "40  nous recrutons un consultant expérimenté en bi...   \n",
      "41  rejoignez notre équipe en tant qu'ingénieur sp...   \n",
      "37  rejoignez notre équipe en tant qu'ingénieur lo...   \n",
      "10  participer au développement d'applications and...   \n",
      "14  participer au développement d'applications jav...   \n",
      "4   expérience dans le développement de firmwares ...   \n",
      "0                   a high-level programming language   \n",
      "21   contribuer au développement d'applications io...   \n",
      "29  nous recherchons un ingénieur embarqué spécial...   \n",
      "39  rejoignez notre équipe en tant qu'architecte l...   \n",
      "19  expérience avancée en c++ pour le développemen...   \n",
      "34  nous recrutons un analyste bi expérimenté pour...   \n",
      "36  nous cherchons un data scientist passionné pou...   \n",
      "\n",
      "                                             intitule  \n",
      "25  stage développeur full stack (1 an d'expérience)   \n",
      "22      stage développeur web php (1 an d'expérience)  \n",
      "7   stage développeur java android (6 mois d'expér...  \n",
      "11   stage développeur react.js (6 mois d'expérience)  \n",
      "6    stage administrateur cloud (6 mois d'expérience)  \n",
      "5    stage ingénieur devops cloud (1 an d'expérience)  \n",
      "13   stage développeur mobile ios (1 an d'expérience)  \n",
      "33           ingénieur embarqué en télécommunications  \n",
      "20  stage développeur front-end vue.js (6 mois d'e...  \n",
      "30                           développeur firmware iot  \n",
      "2   stage ingénieur systemes embarques (1 an d'exp...  \n",
      "16     stage développeur python (6 mois d'expérience)  \n",
      "17  stage développeur react native (6 mois d'expér...  \n",
      "26  stage développeur java junior (6 mois d'expéri...  \n",
      "27                              analyste data science  \n",
      "38                           développeur embarqué iot  \n",
      "1                              ingenieur data science  \n",
      "3                            react js et react native  \n",
      "31          ingénieur embarqué en systèmes temps réel  \n",
      "35                               développeur big data  \n",
      "24  stage développeur java back-end (6 mois d'expé...  \n",
      "12  stage développeur back-end php symfony (6 mois...  \n",
      "9   stage développeur machine learning python (1 a...  \n",
      "15  stage développeur web front-end (1 an d'expéri...  \n",
      "28               ingénieur bi (business intelligence)  \n",
      "32                    développeur firmware automobile  \n",
      "8   stage développeur web php laravel (6 mois d'ex...  \n",
      "18  stage développeur web full stack (1 an d'expér...  \n",
      "42                   analyste data science en finance  \n",
      "23  stage développeur mobile android (6 mois d'exp...  \n",
      "40                consultant bi et analyse de données  \n",
      "41                                 ingénieur big data  \n",
      "37        ingénieur logiciel embarqué en aéronautique  \n",
      "10  stage développeur android kotlin (6 mois d'exp...  \n",
      "14  stage développeur java spring boot (6 mois d'e...  \n",
      "4   stage développeur firmware (6 mois d'expérience)   \n",
      "0                                     java developper  \n",
      "21  stage développeur ios swift (6 mois d'expérience)  \n",
      "29                  ingénieur embarqué en automatisme  \n",
      "39                  architecte embarqué en automobile  \n",
      "19         stage développeur c++ (1 an d'expérience)   \n",
      "34                         analyste bi et data mining  \n",
      "36                            data scientist en santé  \n"
     ]
    }
   ],
   "source": [
    "print(data_selected_random)"
   ]
  },
  {
   "cell_type": "code",
   "execution_count": 20,
   "id": "cdeebaa0",
   "metadata": {},
   "outputs": [],
   "source": [
    "# Remplacer les caractères spécifiques dans les colonnes 'description' et 'intitule'\n",
    "data_selected['description'] = data_selected['description'].str.replace('é', 'e').str.replace('è', 'e').str.replace('à', 'a')\n",
    "data_selected['intitule'] = data_selected['intitule'].str.replace('é', 'e').str.replace('è', 'e').str.replace('à', 'a')\n"
   ]
  },
  {
   "cell_type": "code",
   "execution_count": 21,
   "id": "2527db8b",
   "metadata": {},
   "outputs": [
    {
     "name": "stdout",
     "output_type": "stream",
     "text": [
      "['DWM' 'AUTRE' 'BI&BD' 'ES' 'CL']\n"
     ]
    }
   ],
   "source": [
    "# Supprimer les lignes avec la modalité \"autre\" dans la colonne \"speciality\"\n",
    "print(data1['Speciality'].unique())\n",
    "data1 = data1[data1['Speciality'] != 'AUTRE']"
   ]
  },
  {
   "cell_type": "code",
   "execution_count": 22,
   "id": "8462f826",
   "metadata": {},
   "outputs": [
    {
     "name": "stdout",
     "output_type": "stream",
     "text": [
      "['DWM' 'BI&BD' 'ES' 'CL']\n"
     ]
    }
   ],
   "source": [
    "# Obtenir les différentes modalités de la colonne \"speciality\"\n",
    "modalites_speciality = data1['Speciality'].unique()\n",
    "\n",
    "# Afficher les modalités\n",
    "print(modalites_speciality)"
   ]
  },
  {
   "cell_type": "code",
   "execution_count": 23,
   "id": "7273971d",
   "metadata": {},
   "outputs": [],
   "source": [
    "def determine_speciality(title):\n",
    "    title_lower = title.lower()\n",
    "    title_lower = re.sub(r'[^\\w\\s]', '', title_lower)\n",
    "    keywords = {\n",
    "        # Developpement web et mobile\n",
    "        'DWM': ['react native', 'ios', 'swift', 'kotlin', 'mobile', 'android', 'flutter','java', 'web', 'fullstack', 'full stack', 'node.js','node js', 'express js', '.net', 'angular', 'dotnet', 'vue js', 'react', 'html', 'css', 'javascript', 'springboot', 'frontend', 'front-end', 'backend', 'back-end', 'php', 'symfony', 'laravel', 'wordpress'],\n",
    "        # Dig data et bi\n",
    "        'BI&BD': ['data scientist','power bi', 'ssis', 'ssrs', 'ssas', 'business intelligence', 'big data', 'sql', 'administrateur', 'oracle','python', 'machine learning', 'science', 'r', 'scientist','talend','excel','data mining'],\n",
    "        # Embarque\n",
    "        'ES': ['Automobile','embarque','embedded','cad', 'c++', 'c', 'autocad','iot','embarques','Embarque','IoT','électroniques','électronique','electronique'],\n",
    "        # Cloud\n",
    "        'CL': ['linux', 'devops', 'ip', 'cloud', 'terraform', 'grafana', 'apache airflow', 'securite','security'],\n",
    "    }\n",
    "    \n",
    "    max_similarity = 0\n",
    "    best_speciality = 'AUTRE'\n",
    "    all_keywords = [' '.join(word_list) for word_list in keywords.values()]\n",
    "    all_keywords.append(title_lower)\n",
    "    vectorizer = TfidfVectorizer()\n",
    "    vectors = vectorizer.fit_transform(all_keywords)\n",
    "   \n",
    "    title_vector = vectors[-1]  \n",
    "    for i, speciality_vector in enumerate(vectors[:-1]):  \n",
    "        similarity = np.dot(speciality_vector, title_vector.T).toarray()[0][0]\n",
    "        if similarity > max_similarity:\n",
    "            max_similarity = similarity\n",
    "            best_speciality = list(keywords.keys())[i]    \n",
    "    return best_speciality"
   ]
  },
  {
   "cell_type": "code",
   "execution_count": 24,
   "id": "67fb4d4a",
   "metadata": {},
   "outputs": [],
   "source": [
    "def determine_speciality_from_title_and_description(title, description):\n",
    "    text = title.lower() + ' ' + description.lower()\n",
    "    return determine_speciality(text)"
   ]
  },
  {
   "cell_type": "code",
   "execution_count": 25,
   "id": "8010c50a",
   "metadata": {},
   "outputs": [],
   "source": [
    "data_selected_random['Speciality'] = data_selected_random.apply(lambda row: determine_speciality_from_title_and_description(row['intitule'], row['description']), axis=1)"
   ]
  },
  {
   "cell_type": "code",
   "execution_count": 26,
   "id": "ad551b32",
   "metadata": {},
   "outputs": [
    {
     "name": "stdout",
     "output_type": "stream",
     "text": [
      "                                          description  \\\n",
      "25  maîtrise de java, react.js, node.js et expérie...   \n",
      "22  expérience requise en php, laravel, vue.js et ...   \n",
      "7   participer au développement d'applications and...   \n",
      "11  travailler sur des projets utilisant react.js,...   \n",
      "6   gérer les déploiements cloud, la configuration...   \n",
      "\n",
      "                                             intitule Speciality  \n",
      "25  stage développeur full stack (1 an d'expérience)         DWM  \n",
      "22      stage développeur web php (1 an d'expérience)        DWM  \n",
      "7   stage développeur java android (6 mois d'expér...        DWM  \n",
      "11   stage développeur react.js (6 mois d'expérience)        DWM  \n",
      "6    stage administrateur cloud (6 mois d'expérience)         CL  \n"
     ]
    }
   ],
   "source": [
    "print(data_selected_random.head())"
   ]
  },
  {
   "cell_type": "code",
   "execution_count": 27,
   "id": "8bcb20d0",
   "metadata": {},
   "outputs": [
    {
     "name": "stdout",
     "output_type": "stream",
     "text": [
      "['DWM' 'CL' 'AUTRE' 'ES' 'BI&BD']\n"
     ]
    }
   ],
   "source": [
    "print(data_selected_random['Speciality'].unique())"
   ]
  },
  {
   "cell_type": "code",
   "execution_count": 28,
   "id": "ae642703",
   "metadata": {},
   "outputs": [],
   "source": [
    "data_selected_random = data_selected_random[data_selected_random['Speciality'] != 'AUTRE']"
   ]
  },
  {
   "cell_type": "code",
   "execution_count": 29,
   "id": "f237135a",
   "metadata": {},
   "outputs": [
    {
     "name": "stdout",
     "output_type": "stream",
     "text": [
      "['DWM' 'CL' 'ES' 'BI&BD']\n"
     ]
    }
   ],
   "source": [
    "print(data_selected_random['Speciality'].unique())"
   ]
  },
  {
   "cell_type": "code",
   "execution_count": 30,
   "id": "90dd917b",
   "metadata": {},
   "outputs": [],
   "source": [
    "# Concaténer les colonnes \"intitule\" et \"description\"\n",
    "data_selected_random['Title'] = data_selected_random['intitule'] + ' ' + data_selected_random['description']"
   ]
  },
  {
   "cell_type": "code",
   "execution_count": 31,
   "id": "01969a5e",
   "metadata": {},
   "outputs": [
    {
     "data": {
      "text/html": [
       "<div>\n",
       "<style scoped>\n",
       "    .dataframe tbody tr th:only-of-type {\n",
       "        vertical-align: middle;\n",
       "    }\n",
       "\n",
       "    .dataframe tbody tr th {\n",
       "        vertical-align: top;\n",
       "    }\n",
       "\n",
       "    .dataframe thead th {\n",
       "        text-align: right;\n",
       "    }\n",
       "</style>\n",
       "<table border=\"1\" class=\"dataframe\">\n",
       "  <thead>\n",
       "    <tr style=\"text-align: right;\">\n",
       "      <th></th>\n",
       "      <th>description</th>\n",
       "      <th>intitule</th>\n",
       "      <th>Speciality</th>\n",
       "      <th>Title</th>\n",
       "    </tr>\n",
       "  </thead>\n",
       "  <tbody>\n",
       "    <tr>\n",
       "      <th>25</th>\n",
       "      <td>maîtrise de java, react.js, node.js et expérie...</td>\n",
       "      <td>stage développeur full stack (1 an d'expérience)</td>\n",
       "      <td>DWM</td>\n",
       "      <td>stage développeur full stack (1 an d'expérienc...</td>\n",
       "    </tr>\n",
       "    <tr>\n",
       "      <th>22</th>\n",
       "      <td>expérience requise en php, laravel, vue.js et ...</td>\n",
       "      <td>stage développeur web php (1 an d'expérience)</td>\n",
       "      <td>DWM</td>\n",
       "      <td>stage développeur web php (1 an d'expérience) ...</td>\n",
       "    </tr>\n",
       "    <tr>\n",
       "      <th>7</th>\n",
       "      <td>participer au développement d'applications and...</td>\n",
       "      <td>stage développeur java android (6 mois d'expér...</td>\n",
       "      <td>DWM</td>\n",
       "      <td>stage développeur java android (6 mois d'expér...</td>\n",
       "    </tr>\n",
       "    <tr>\n",
       "      <th>11</th>\n",
       "      <td>travailler sur des projets utilisant react.js,...</td>\n",
       "      <td>stage développeur react.js (6 mois d'expérience)</td>\n",
       "      <td>DWM</td>\n",
       "      <td>stage développeur react.js (6 mois d'expérienc...</td>\n",
       "    </tr>\n",
       "    <tr>\n",
       "      <th>6</th>\n",
       "      <td>gérer les déploiements cloud, la configuration...</td>\n",
       "      <td>stage administrateur cloud (6 mois d'expérience)</td>\n",
       "      <td>CL</td>\n",
       "      <td>stage administrateur cloud (6 mois d'expérienc...</td>\n",
       "    </tr>\n",
       "  </tbody>\n",
       "</table>\n",
       "</div>"
      ],
      "text/plain": [
       "                                          description  \\\n",
       "25  maîtrise de java, react.js, node.js et expérie...   \n",
       "22  expérience requise en php, laravel, vue.js et ...   \n",
       "7   participer au développement d'applications and...   \n",
       "11  travailler sur des projets utilisant react.js,...   \n",
       "6   gérer les déploiements cloud, la configuration...   \n",
       "\n",
       "                                             intitule Speciality  \\\n",
       "25  stage développeur full stack (1 an d'expérience)         DWM   \n",
       "22      stage développeur web php (1 an d'expérience)        DWM   \n",
       "7   stage développeur java android (6 mois d'expér...        DWM   \n",
       "11   stage développeur react.js (6 mois d'expérience)        DWM   \n",
       "6    stage administrateur cloud (6 mois d'expérience)         CL   \n",
       "\n",
       "                                                Title  \n",
       "25  stage développeur full stack (1 an d'expérienc...  \n",
       "22  stage développeur web php (1 an d'expérience) ...  \n",
       "7   stage développeur java android (6 mois d'expér...  \n",
       "11  stage développeur react.js (6 mois d'expérienc...  \n",
       "6   stage administrateur cloud (6 mois d'expérienc...  "
      ]
     },
     "execution_count": 31,
     "metadata": {},
     "output_type": "execute_result"
    }
   ],
   "source": [
    "data_selected_random.head()"
   ]
  },
  {
   "cell_type": "code",
   "execution_count": 32,
   "id": "e98e543a",
   "metadata": {},
   "outputs": [
    {
     "name": "stdout",
     "output_type": "stream",
     "text": [
      "                                                Title Speciality\n",
      "25  stage développeur full stack (1 an d'expérienc...        DWM\n",
      "22  stage développeur web php (1 an d'expérience) ...        DWM\n",
      "7   stage développeur java android (6 mois d'expér...        DWM\n",
      "11  stage développeur react.js (6 mois d'expérienc...        DWM\n",
      "6   stage administrateur cloud (6 mois d'expérienc...         CL\n"
     ]
    }
   ],
   "source": [
    "# Sélectionner uniquement les colonnes 'Title' et 'Speciality'\n",
    "data_selected_random = data_selected_random.loc[:, ['Title', 'Speciality']]\n",
    "\n",
    "# Afficher les premières lignes du DataFrame pour vérification\n",
    "print(data_selected_random.head())"
   ]
  },
  {
   "cell_type": "code",
   "execution_count": null,
   "id": "82f8c6b9",
   "metadata": {},
   "outputs": [],
   "source": []
  },
  {
   "cell_type": "code",
   "execution_count": 33,
   "id": "62844fc8",
   "metadata": {},
   "outputs": [
    {
     "data": {
      "text/html": [
       "<div>\n",
       "<style scoped>\n",
       "    .dataframe tbody tr th:only-of-type {\n",
       "        vertical-align: middle;\n",
       "    }\n",
       "\n",
       "    .dataframe tbody tr th {\n",
       "        vertical-align: top;\n",
       "    }\n",
       "\n",
       "    .dataframe thead th {\n",
       "        text-align: right;\n",
       "    }\n",
       "</style>\n",
       "<table border=\"1\" class=\"dataframe\">\n",
       "  <thead>\n",
       "    <tr style=\"text-align: right;\">\n",
       "      <th></th>\n",
       "      <th>Title</th>\n",
       "      <th>Speciality</th>\n",
       "    </tr>\n",
       "  </thead>\n",
       "  <tbody>\n",
       "    <tr>\n",
       "      <th>0</th>\n",
       "      <td>Junior NodeJS/ReactJS Full-Stack Developer (H/F)</td>\n",
       "      <td>DWM</td>\n",
       "    </tr>\n",
       "    <tr>\n",
       "      <th>1</th>\n",
       "      <td>Full Stack Developer</td>\n",
       "      <td>DWM</td>\n",
       "    </tr>\n",
       "    <tr>\n",
       "      <th>2</th>\n",
       "      <td>Front-End Developer TN</td>\n",
       "      <td>DWM</td>\n",
       "    </tr>\n",
       "    <tr>\n",
       "      <th>3</th>\n",
       "      <td>React Developer</td>\n",
       "      <td>DWM</td>\n",
       "    </tr>\n",
       "    <tr>\n",
       "      <th>5</th>\n",
       "      <td>Java Developer TN</td>\n",
       "      <td>DWM</td>\n",
       "    </tr>\n",
       "  </tbody>\n",
       "</table>\n",
       "</div>"
      ],
      "text/plain": [
       "                                              Title Speciality\n",
       "0  Junior NodeJS/ReactJS Full-Stack Developer (H/F)        DWM\n",
       "1                              Full Stack Developer        DWM\n",
       "2                            Front-End Developer TN        DWM\n",
       "3                                   React Developer        DWM\n",
       "5                                 Java Developer TN        DWM"
      ]
     },
     "execution_count": 33,
     "metadata": {},
     "output_type": "execute_result"
    }
   ],
   "source": [
    "data1.head()"
   ]
  },
  {
   "cell_type": "code",
   "execution_count": 34,
   "id": "7631c603",
   "metadata": {},
   "outputs": [
    {
     "data": {
      "text/html": [
       "<div>\n",
       "<style scoped>\n",
       "    .dataframe tbody tr th:only-of-type {\n",
       "        vertical-align: middle;\n",
       "    }\n",
       "\n",
       "    .dataframe tbody tr th {\n",
       "        vertical-align: top;\n",
       "    }\n",
       "\n",
       "    .dataframe thead th {\n",
       "        text-align: right;\n",
       "    }\n",
       "</style>\n",
       "<table border=\"1\" class=\"dataframe\">\n",
       "  <thead>\n",
       "    <tr style=\"text-align: right;\">\n",
       "      <th></th>\n",
       "      <th>Title</th>\n",
       "      <th>Speciality</th>\n",
       "    </tr>\n",
       "  </thead>\n",
       "  <tbody>\n",
       "    <tr>\n",
       "      <th>25</th>\n",
       "      <td>stage développeur full stack (1 an d'expérienc...</td>\n",
       "      <td>DWM</td>\n",
       "    </tr>\n",
       "    <tr>\n",
       "      <th>22</th>\n",
       "      <td>stage développeur web php (1 an d'expérience) ...</td>\n",
       "      <td>DWM</td>\n",
       "    </tr>\n",
       "    <tr>\n",
       "      <th>7</th>\n",
       "      <td>stage développeur java android (6 mois d'expér...</td>\n",
       "      <td>DWM</td>\n",
       "    </tr>\n",
       "    <tr>\n",
       "      <th>11</th>\n",
       "      <td>stage développeur react.js (6 mois d'expérienc...</td>\n",
       "      <td>DWM</td>\n",
       "    </tr>\n",
       "    <tr>\n",
       "      <th>6</th>\n",
       "      <td>stage administrateur cloud (6 mois d'expérienc...</td>\n",
       "      <td>CL</td>\n",
       "    </tr>\n",
       "  </tbody>\n",
       "</table>\n",
       "</div>"
      ],
      "text/plain": [
       "                                                Title Speciality\n",
       "25  stage développeur full stack (1 an d'expérienc...        DWM\n",
       "22  stage développeur web php (1 an d'expérience) ...        DWM\n",
       "7   stage développeur java android (6 mois d'expér...        DWM\n",
       "11  stage développeur react.js (6 mois d'expérienc...        DWM\n",
       "6   stage administrateur cloud (6 mois d'expérienc...         CL"
      ]
     },
     "execution_count": 34,
     "metadata": {},
     "output_type": "execute_result"
    }
   ],
   "source": [
    "data_selected_random.head()"
   ]
  },
  {
   "cell_type": "code",
   "execution_count": 35,
   "id": "d0ee3d58",
   "metadata": {},
   "outputs": [],
   "source": [
    "# Diviser les données en ensembles d'entraînement et de test pour data1\n",
    "X_train, X_test, y_train, y_test = train_test_split(data1['Title'], data1['Speciality'], test_size=0.2, random_state=42)\n",
    "\n",
    "# Utiliser data_selected_random comme ensemble de test\n",
    "X_test_selected_random = data_selected_random['Title']\n",
    "y_test_selected_random = data_selected_random['Speciality']"
   ]
  },
  {
   "cell_type": "markdown",
   "id": "cfbf65ed",
   "metadata": {},
   "source": [
    "# III Modélisation"
   ]
  },
  {
   "cell_type": "code",
   "execution_count": 36,
   "id": "71a2760b",
   "metadata": {},
   "outputs": [
    {
     "data": {
      "text/html": [
       "<style>#sk-container-id-1 {color: black;background-color: white;}#sk-container-id-1 pre{padding: 0;}#sk-container-id-1 div.sk-toggleable {background-color: white;}#sk-container-id-1 label.sk-toggleable__label {cursor: pointer;display: block;width: 100%;margin-bottom: 0;padding: 0.3em;box-sizing: border-box;text-align: center;}#sk-container-id-1 label.sk-toggleable__label-arrow:before {content: \"▸\";float: left;margin-right: 0.25em;color: #696969;}#sk-container-id-1 label.sk-toggleable__label-arrow:hover:before {color: black;}#sk-container-id-1 div.sk-estimator:hover label.sk-toggleable__label-arrow:before {color: black;}#sk-container-id-1 div.sk-toggleable__content {max-height: 0;max-width: 0;overflow: hidden;text-align: left;background-color: #f0f8ff;}#sk-container-id-1 div.sk-toggleable__content pre {margin: 0.2em;color: black;border-radius: 0.25em;background-color: #f0f8ff;}#sk-container-id-1 input.sk-toggleable__control:checked~div.sk-toggleable__content {max-height: 200px;max-width: 100%;overflow: auto;}#sk-container-id-1 input.sk-toggleable__control:checked~label.sk-toggleable__label-arrow:before {content: \"▾\";}#sk-container-id-1 div.sk-estimator input.sk-toggleable__control:checked~label.sk-toggleable__label {background-color: #d4ebff;}#sk-container-id-1 div.sk-label input.sk-toggleable__control:checked~label.sk-toggleable__label {background-color: #d4ebff;}#sk-container-id-1 input.sk-hidden--visually {border: 0;clip: rect(1px 1px 1px 1px);clip: rect(1px, 1px, 1px, 1px);height: 1px;margin: -1px;overflow: hidden;padding: 0;position: absolute;width: 1px;}#sk-container-id-1 div.sk-estimator {font-family: monospace;background-color: #f0f8ff;border: 1px dotted black;border-radius: 0.25em;box-sizing: border-box;margin-bottom: 0.5em;}#sk-container-id-1 div.sk-estimator:hover {background-color: #d4ebff;}#sk-container-id-1 div.sk-parallel-item::after {content: \"\";width: 100%;border-bottom: 1px solid gray;flex-grow: 1;}#sk-container-id-1 div.sk-label:hover label.sk-toggleable__label {background-color: #d4ebff;}#sk-container-id-1 div.sk-serial::before {content: \"\";position: absolute;border-left: 1px solid gray;box-sizing: border-box;top: 0;bottom: 0;left: 50%;z-index: 0;}#sk-container-id-1 div.sk-serial {display: flex;flex-direction: column;align-items: center;background-color: white;padding-right: 0.2em;padding-left: 0.2em;position: relative;}#sk-container-id-1 div.sk-item {position: relative;z-index: 1;}#sk-container-id-1 div.sk-parallel {display: flex;align-items: stretch;justify-content: center;background-color: white;position: relative;}#sk-container-id-1 div.sk-item::before, #sk-container-id-1 div.sk-parallel-item::before {content: \"\";position: absolute;border-left: 1px solid gray;box-sizing: border-box;top: 0;bottom: 0;left: 50%;z-index: -1;}#sk-container-id-1 div.sk-parallel-item {display: flex;flex-direction: column;z-index: 1;position: relative;background-color: white;}#sk-container-id-1 div.sk-parallel-item:first-child::after {align-self: flex-end;width: 50%;}#sk-container-id-1 div.sk-parallel-item:last-child::after {align-self: flex-start;width: 50%;}#sk-container-id-1 div.sk-parallel-item:only-child::after {width: 0;}#sk-container-id-1 div.sk-dashed-wrapped {border: 1px dashed gray;margin: 0 0.4em 0.5em 0.4em;box-sizing: border-box;padding-bottom: 0.4em;background-color: white;}#sk-container-id-1 div.sk-label label {font-family: monospace;font-weight: bold;display: inline-block;line-height: 1.2em;}#sk-container-id-1 div.sk-label-container {text-align: center;}#sk-container-id-1 div.sk-container {/* jupyter's `normalize.less` sets `[hidden] { display: none; }` but bootstrap.min.css set `[hidden] { display: none !important; }` so we also need the `!important` here to be able to override the default hidden behavior on the sphinx rendered scikit-learn.org. See: https://github.com/scikit-learn/scikit-learn/issues/21755 */display: inline-block !important;position: relative;}#sk-container-id-1 div.sk-text-repr-fallback {display: none;}</style><div id=\"sk-container-id-1\" class=\"sk-top-container\"><div class=\"sk-text-repr-fallback\"><pre>Pipeline(steps=[(&#x27;tfidf&#x27;, TfidfVectorizer()), (&#x27;clf&#x27;, KNeighborsClassifier())])</pre><b>In a Jupyter environment, please rerun this cell to show the HTML representation or trust the notebook. <br />On GitHub, the HTML representation is unable to render, please try loading this page with nbviewer.org.</b></div><div class=\"sk-container\" hidden><div class=\"sk-item sk-dashed-wrapped\"><div class=\"sk-label-container\"><div class=\"sk-label sk-toggleable\"><input class=\"sk-toggleable__control sk-hidden--visually\" id=\"sk-estimator-id-1\" type=\"checkbox\" ><label for=\"sk-estimator-id-1\" class=\"sk-toggleable__label sk-toggleable__label-arrow\">Pipeline</label><div class=\"sk-toggleable__content\"><pre>Pipeline(steps=[(&#x27;tfidf&#x27;, TfidfVectorizer()), (&#x27;clf&#x27;, KNeighborsClassifier())])</pre></div></div></div><div class=\"sk-serial\"><div class=\"sk-item\"><div class=\"sk-estimator sk-toggleable\"><input class=\"sk-toggleable__control sk-hidden--visually\" id=\"sk-estimator-id-2\" type=\"checkbox\" ><label for=\"sk-estimator-id-2\" class=\"sk-toggleable__label sk-toggleable__label-arrow\">TfidfVectorizer</label><div class=\"sk-toggleable__content\"><pre>TfidfVectorizer()</pre></div></div></div><div class=\"sk-item\"><div class=\"sk-estimator sk-toggleable\"><input class=\"sk-toggleable__control sk-hidden--visually\" id=\"sk-estimator-id-3\" type=\"checkbox\" ><label for=\"sk-estimator-id-3\" class=\"sk-toggleable__label sk-toggleable__label-arrow\">KNeighborsClassifier</label><div class=\"sk-toggleable__content\"><pre>KNeighborsClassifier()</pre></div></div></div></div></div></div></div>"
      ],
      "text/plain": [
       "Pipeline(steps=[('tfidf', TfidfVectorizer()), ('clf', KNeighborsClassifier())])"
      ]
     },
     "execution_count": 36,
     "metadata": {},
     "output_type": "execute_result"
    }
   ],
   "source": [
    "# Créer le pipeline avec TfidfVectorizer et KNeighborsClassifier\n",
    "pipeline_knn = Pipeline([\n",
    "    ('tfidf', TfidfVectorizer()),\n",
    "    ('clf', KNeighborsClassifier())\n",
    "])\n",
    "\n",
    "# Entraîner le modèle sur data1\n",
    "pipeline_knn.fit(data1['Title'], data1['Speciality'])"
   ]
  },
  {
   "cell_type": "code",
   "execution_count": 46,
   "id": "803698b5",
   "metadata": {},
   "outputs": [
    {
     "data": {
      "image/png": "[encoded data removed]",
      "text/plain": [
       "<Figure size 1000x800 with 1 Axes>"
      ]
     },
     "metadata": {},
     "output_type": "display_data"
    }
   ],
   "source": [
    "import matplotlib.pyplot as plt\n",
    "from sklearn.neighbors import KNeighborsClassifier\n",
    "\n",
    "# Fit the K-nearest neighbors classifier on the data\n",
    "pipeline_knn.fit(data1['Title'], data1['Speciality'])\n",
    "\n",
    "# Get the predicted labels for each data point\n",
    "predicted_labels = pipeline_knn.predict(data1['Title'])\n",
    "\n",
    "# Define colors for each class\n",
    "color_dict = {'DWM': 'blue', 'CL': 'red'}  # Adjust colors based on your actual classes\n",
    "\n",
    "# Plot the data points\n",
    "plt.figure(figsize=(10, 8))\n",
    "for label, color in color_dict.items():\n",
    "    indices = data1['Speciality'] == label\n",
    "    plt.scatter(tfidf_matrix_2d[indices, 0], tfidf_matrix_2d[indices, 1], c=color, label=label)\n",
    "\n",
    "plt.title('Visualization of Data Points with K-Nearest Neighbors')\n",
    "plt.xlabel('Feature 1')\n",
    "plt.ylabel('Feature 2')\n",
    "plt.legend()\n",
    "plt.show()\n"
   ]
  },
  {
   "cell_type": "code",
   "execution_count": 37,
   "id": "1c3a930f",
   "metadata": {},
   "outputs": [
    {
     "data": {
      "text/html": [
       "<style>#sk-container-id-2 {color: black;background-color: white;}#sk-container-id-2 pre{padding: 0;}#sk-container-id-2 div.sk-toggleable {background-color: white;}#sk-container-id-2 label.sk-toggleable__label {cursor: pointer;display: block;width: 100%;margin-bottom: 0;padding: 0.3em;box-sizing: border-box;text-align: center;}#sk-container-id-2 label.sk-toggleable__label-arrow:before {content: \"▸\";float: left;margin-right: 0.25em;color: #696969;}#sk-container-id-2 label.sk-toggleable__label-arrow:hover:before {color: black;}#sk-container-id-2 div.sk-estimator:hover label.sk-toggleable__label-arrow:before {color: black;}#sk-container-id-2 div.sk-toggleable__content {max-height: 0;max-width: 0;overflow: hidden;text-align: left;background-color: #f0f8ff;}#sk-container-id-2 div.sk-toggleable__content pre {margin: 0.2em;color: black;border-radius: 0.25em;background-color: #f0f8ff;}#sk-container-id-2 input.sk-toggleable__control:checked~div.sk-toggleable__content {max-height: 200px;max-width: 100%;overflow: auto;}#sk-container-id-2 input.sk-toggleable__control:checked~label.sk-toggleable__label-arrow:before {content: \"▾\";}#sk-container-id-2 div.sk-estimator input.sk-toggleable__control:checked~label.sk-toggleable__label {background-color: #d4ebff;}#sk-container-id-2 div.sk-label input.sk-toggleable__control:checked~label.sk-toggleable__label {background-color: #d4ebff;}#sk-container-id-2 input.sk-hidden--visually {border: 0;clip: rect(1px 1px 1px 1px);clip: rect(1px, 1px, 1px, 1px);height: 1px;margin: -1px;overflow: hidden;padding: 0;position: absolute;width: 1px;}#sk-container-id-2 div.sk-estimator {font-family: monospace;background-color: #f0f8ff;border: 1px dotted black;border-radius: 0.25em;box-sizing: border-box;margin-bottom: 0.5em;}#sk-container-id-2 div.sk-estimator:hover {background-color: #d4ebff;}#sk-container-id-2 div.sk-parallel-item::after {content: \"\";width: 100%;border-bottom: 1px solid gray;flex-grow: 1;}#sk-container-id-2 div.sk-label:hover label.sk-toggleable__label {background-color: #d4ebff;}#sk-container-id-2 div.sk-serial::before {content: \"\";position: absolute;border-left: 1px solid gray;box-sizing: border-box;top: 0;bottom: 0;left: 50%;z-index: 0;}#sk-container-id-2 div.sk-serial {display: flex;flex-direction: column;align-items: center;background-color: white;padding-right: 0.2em;padding-left: 0.2em;position: relative;}#sk-container-id-2 div.sk-item {position: relative;z-index: 1;}#sk-container-id-2 div.sk-parallel {display: flex;align-items: stretch;justify-content: center;background-color: white;position: relative;}#sk-container-id-2 div.sk-item::before, #sk-container-id-2 div.sk-parallel-item::before {content: \"\";position: absolute;border-left: 1px solid gray;box-sizing: border-box;top: 0;bottom: 0;left: 50%;z-index: -1;}#sk-container-id-2 div.sk-parallel-item {display: flex;flex-direction: column;z-index: 1;position: relative;background-color: white;}#sk-container-id-2 div.sk-parallel-item:first-child::after {align-self: flex-end;width: 50%;}#sk-container-id-2 div.sk-parallel-item:last-child::after {align-self: flex-start;width: 50%;}#sk-container-id-2 div.sk-parallel-item:only-child::after {width: 0;}#sk-container-id-2 div.sk-dashed-wrapped {border: 1px dashed gray;margin: 0 0.4em 0.5em 0.4em;box-sizing: border-box;padding-bottom: 0.4em;background-color: white;}#sk-container-id-2 div.sk-label label {font-family: monospace;font-weight: bold;display: inline-block;line-height: 1.2em;}#sk-container-id-2 div.sk-label-container {text-align: center;}#sk-container-id-2 div.sk-container {/* jupyter's `normalize.less` sets `[hidden] { display: none; }` but bootstrap.min.css set `[hidden] { display: none !important; }` so we also need the `!important` here to be able to override the default hidden behavior on the sphinx rendered scikit-learn.org. See: https://github.com/scikit-learn/scikit-learn/issues/21755 */display: inline-block !important;position: relative;}#sk-container-id-2 div.sk-text-repr-fallback {display: none;}</style><div id=\"sk-container-id-2\" class=\"sk-top-container\"><div class=\"sk-text-repr-fallback\"><pre>Pipeline(steps=[(&#x27;tfidf&#x27;, TfidfVectorizer()), (&#x27;clf&#x27;, AdaBoostClassifier())])</pre><b>In a Jupyter environment, please rerun this cell to show the HTML representation or trust the notebook. <br />On GitHub, the HTML representation is unable to render, please try loading this page with nbviewer.org.</b></div><div class=\"sk-container\" hidden><div class=\"sk-item sk-dashed-wrapped\"><div class=\"sk-label-container\"><div class=\"sk-label sk-toggleable\"><input class=\"sk-toggleable__control sk-hidden--visually\" id=\"sk-estimator-id-4\" type=\"checkbox\" ><label for=\"sk-estimator-id-4\" class=\"sk-toggleable__label sk-toggleable__label-arrow\">Pipeline</label><div class=\"sk-toggleable__content\"><pre>Pipeline(steps=[(&#x27;tfidf&#x27;, TfidfVectorizer()), (&#x27;clf&#x27;, AdaBoostClassifier())])</pre></div></div></div><div class=\"sk-serial\"><div class=\"sk-item\"><div class=\"sk-estimator sk-toggleable\"><input class=\"sk-toggleable__control sk-hidden--visually\" id=\"sk-estimator-id-5\" type=\"checkbox\" ><label for=\"sk-estimator-id-5\" class=\"sk-toggleable__label sk-toggleable__label-arrow\">TfidfVectorizer</label><div class=\"sk-toggleable__content\"><pre>TfidfVectorizer()</pre></div></div></div><div class=\"sk-item\"><div class=\"sk-estimator sk-toggleable\"><input class=\"sk-toggleable__control sk-hidden--visually\" id=\"sk-estimator-id-6\" type=\"checkbox\" ><label for=\"sk-estimator-id-6\" class=\"sk-toggleable__label sk-toggleable__label-arrow\">AdaBoostClassifier</label><div class=\"sk-toggleable__content\"><pre>AdaBoostClassifier()</pre></div></div></div></div></div></div></div>"
      ],
      "text/plain": [
       "Pipeline(steps=[('tfidf', TfidfVectorizer()), ('clf', AdaBoostClassifier())])"
      ]
     },
     "execution_count": 37,
     "metadata": {},
     "output_type": "execute_result"
    }
   ],
   "source": [
    "# Créer le pipeline avec TfidfVectorizer et AdaBoostClassifier\n",
    "pipeline_adaboost = Pipeline([\n",
    "    ('tfidf', TfidfVectorizer()),\n",
    "    ('clf', AdaBoostClassifier())\n",
    "])\n",
    "\n",
    "# Entraîner le modèle sur data1\n",
    "pipeline_adaboost.fit(data1['Title'], data1['Speciality'])"
   ]
  },
  {
   "cell_type": "code",
   "execution_count": 38,
   "id": "1840e663",
   "metadata": {},
   "outputs": [
    {
     "data": {
      "text/html": [
       "<style>#sk-container-id-3 {color: black;background-color: white;}#sk-container-id-3 pre{padding: 0;}#sk-container-id-3 div.sk-toggleable {background-color: white;}#sk-container-id-3 label.sk-toggleable__label {cursor: pointer;display: block;width: 100%;margin-bottom: 0;padding: 0.3em;box-sizing: border-box;text-align: center;}#sk-container-id-3 label.sk-toggleable__label-arrow:before {content: \"▸\";float: left;margin-right: 0.25em;color: #696969;}#sk-container-id-3 label.sk-toggleable__label-arrow:hover:before {color: black;}#sk-container-id-3 div.sk-estimator:hover label.sk-toggleable__label-arrow:before {color: black;}#sk-container-id-3 div.sk-toggleable__content {max-height: 0;max-width: 0;overflow: hidden;text-align: left;background-color: #f0f8ff;}#sk-container-id-3 div.sk-toggleable__content pre {margin: 0.2em;color: black;border-radius: 0.25em;background-color: #f0f8ff;}#sk-container-id-3 input.sk-toggleable__control:checked~div.sk-toggleable__content {max-height: 200px;max-width: 100%;overflow: auto;}#sk-container-id-3 input.sk-toggleable__control:checked~label.sk-toggleable__label-arrow:before {content: \"▾\";}#sk-container-id-3 div.sk-estimator input.sk-toggleable__control:checked~label.sk-toggleable__label {background-color: #d4ebff;}#sk-container-id-3 div.sk-label input.sk-toggleable__control:checked~label.sk-toggleable__label {background-color: #d4ebff;}#sk-container-id-3 input.sk-hidden--visually {border: 0;clip: rect(1px 1px 1px 1px);clip: rect(1px, 1px, 1px, 1px);height: 1px;margin: -1px;overflow: hidden;padding: 0;position: absolute;width: 1px;}#sk-container-id-3 div.sk-estimator {font-family: monospace;background-color: #f0f8ff;border: 1px dotted black;border-radius: 0.25em;box-sizing: border-box;margin-bottom: 0.5em;}#sk-container-id-3 div.sk-estimator:hover {background-color: #d4ebff;}#sk-container-id-3 div.sk-parallel-item::after {content: \"\";width: 100%;border-bottom: 1px solid gray;flex-grow: 1;}#sk-container-id-3 div.sk-label:hover label.sk-toggleable__label {background-color: #d4ebff;}#sk-container-id-3 div.sk-serial::before {content: \"\";position: absolute;border-left: 1px solid gray;box-sizing: border-box;top: 0;bottom: 0;left: 50%;z-index: 0;}#sk-container-id-3 div.sk-serial {display: flex;flex-direction: column;align-items: center;background-color: white;padding-right: 0.2em;padding-left: 0.2em;position: relative;}#sk-container-id-3 div.sk-item {position: relative;z-index: 1;}#sk-container-id-3 div.sk-parallel {display: flex;align-items: stretch;justify-content: center;background-color: white;position: relative;}#sk-container-id-3 div.sk-item::before, #sk-container-id-3 div.sk-parallel-item::before {content: \"\";position: absolute;border-left: 1px solid gray;box-sizing: border-box;top: 0;bottom: 0;left: 50%;z-index: -1;}#sk-container-id-3 div.sk-parallel-item {display: flex;flex-direction: column;z-index: 1;position: relative;background-color: white;}#sk-container-id-3 div.sk-parallel-item:first-child::after {align-self: flex-end;width: 50%;}#sk-container-id-3 div.sk-parallel-item:last-child::after {align-self: flex-start;width: 50%;}#sk-container-id-3 div.sk-parallel-item:only-child::after {width: 0;}#sk-container-id-3 div.sk-dashed-wrapped {border: 1px dashed gray;margin: 0 0.4em 0.5em 0.4em;box-sizing: border-box;padding-bottom: 0.4em;background-color: white;}#sk-container-id-3 div.sk-label label {font-family: monospace;font-weight: bold;display: inline-block;line-height: 1.2em;}#sk-container-id-3 div.sk-label-container {text-align: center;}#sk-container-id-3 div.sk-container {/* jupyter's `normalize.less` sets `[hidden] { display: none; }` but bootstrap.min.css set `[hidden] { display: none !important; }` so we also need the `!important` here to be able to override the default hidden behavior on the sphinx rendered scikit-learn.org. See: https://github.com/scikit-learn/scikit-learn/issues/21755 */display: inline-block !important;position: relative;}#sk-container-id-3 div.sk-text-repr-fallback {display: none;}</style><div id=\"sk-container-id-3\" class=\"sk-top-container\"><div class=\"sk-text-repr-fallback\"><pre>Pipeline(steps=[(&#x27;tfidf&#x27;, TfidfVectorizer()), (&#x27;clf&#x27;, LogisticRegression())])</pre><b>In a Jupyter environment, please rerun this cell to show the HTML representation or trust the notebook. <br />On GitHub, the HTML representation is unable to render, please try loading this page with nbviewer.org.</b></div><div class=\"sk-container\" hidden><div class=\"sk-item sk-dashed-wrapped\"><div class=\"sk-label-container\"><div class=\"sk-label sk-toggleable\"><input class=\"sk-toggleable__control sk-hidden--visually\" id=\"sk-estimator-id-7\" type=\"checkbox\" ><label for=\"sk-estimator-id-7\" class=\"sk-toggleable__label sk-toggleable__label-arrow\">Pipeline</label><div class=\"sk-toggleable__content\"><pre>Pipeline(steps=[(&#x27;tfidf&#x27;, TfidfVectorizer()), (&#x27;clf&#x27;, LogisticRegression())])</pre></div></div></div><div class=\"sk-serial\"><div class=\"sk-item\"><div class=\"sk-estimator sk-toggleable\"><input class=\"sk-toggleable__control sk-hidden--visually\" id=\"sk-estimator-id-8\" type=\"checkbox\" ><label for=\"sk-estimator-id-8\" class=\"sk-toggleable__label sk-toggleable__label-arrow\">TfidfVectorizer</label><div class=\"sk-toggleable__content\"><pre>TfidfVectorizer()</pre></div></div></div><div class=\"sk-item\"><div class=\"sk-estimator sk-toggleable\"><input class=\"sk-toggleable__control sk-hidden--visually\" id=\"sk-estimator-id-9\" type=\"checkbox\" ><label for=\"sk-estimator-id-9\" class=\"sk-toggleable__label sk-toggleable__label-arrow\">LogisticRegression</label><div class=\"sk-toggleable__content\"><pre>LogisticRegression()</pre></div></div></div></div></div></div></div>"
      ],
      "text/plain": [
       "Pipeline(steps=[('tfidf', TfidfVectorizer()), ('clf', LogisticRegression())])"
      ]
     },
     "execution_count": 38,
     "metadata": {},
     "output_type": "execute_result"
    }
   ],
   "source": [
    "# Créer le pipeline avec TfidfVectorizer et LogisticRegression\n",
    "pipeline_logistic = Pipeline([\n",
    "    ('tfidf', TfidfVectorizer()),\n",
    "    ('clf', LogisticRegression())\n",
    "])\n",
    "\n",
    "# Entraîner le modèle sur data1\n",
    "pipeline_logistic.fit(data1['Title'], data1['Speciality'])"
   ]
  },
  {
   "cell_type": "code",
   "execution_count": null,
   "id": "a5546225",
   "metadata": {},
   "outputs": [],
   "source": []
  },
  {
   "cell_type": "code",
   "execution_count": 39,
   "id": "22cbe4c1",
   "metadata": {},
   "outputs": [
    {
     "data": {
      "text/html": [
       "<style>#sk-container-id-4 {color: black;background-color: white;}#sk-container-id-4 pre{padding: 0;}#sk-container-id-4 div.sk-toggleable {background-color: white;}#sk-container-id-4 label.sk-toggleable__label {cursor: pointer;display: block;width: 100%;margin-bottom: 0;padding: 0.3em;box-sizing: border-box;text-align: center;}#sk-container-id-4 label.sk-toggleable__label-arrow:before {content: \"▸\";float: left;margin-right: 0.25em;color: #696969;}#sk-container-id-4 label.sk-toggleable__label-arrow:hover:before {color: black;}#sk-container-id-4 div.sk-estimator:hover label.sk-toggleable__label-arrow:before {color: black;}#sk-container-id-4 div.sk-toggleable__content {max-height: 0;max-width: 0;overflow: hidden;text-align: left;background-color: #f0f8ff;}#sk-container-id-4 div.sk-toggleable__content pre {margin: 0.2em;color: black;border-radius: 0.25em;background-color: #f0f8ff;}#sk-container-id-4 input.sk-toggleable__control:checked~div.sk-toggleable__content {max-height: 200px;max-width: 100%;overflow: auto;}#sk-container-id-4 input.sk-toggleable__control:checked~label.sk-toggleable__label-arrow:before {content: \"▾\";}#sk-container-id-4 div.sk-estimator input.sk-toggleable__control:checked~label.sk-toggleable__label {background-color: #d4ebff;}#sk-container-id-4 div.sk-label input.sk-toggleable__control:checked~label.sk-toggleable__label {background-color: #d4ebff;}#sk-container-id-4 input.sk-hidden--visually {border: 0;clip: rect(1px 1px 1px 1px);clip: rect(1px, 1px, 1px, 1px);height: 1px;margin: -1px;overflow: hidden;padding: 0;position: absolute;width: 1px;}#sk-container-id-4 div.sk-estimator {font-family: monospace;background-color: #f0f8ff;border: 1px dotted black;border-radius: 0.25em;box-sizing: border-box;margin-bottom: 0.5em;}#sk-container-id-4 div.sk-estimator:hover {background-color: #d4ebff;}#sk-container-id-4 div.sk-parallel-item::after {content: \"\";width: 100%;border-bottom: 1px solid gray;flex-grow: 1;}#sk-container-id-4 div.sk-label:hover label.sk-toggleable__label {background-color: #d4ebff;}#sk-container-id-4 div.sk-serial::before {content: \"\";position: absolute;border-left: 1px solid gray;box-sizing: border-box;top: 0;bottom: 0;left: 50%;z-index: 0;}#sk-container-id-4 div.sk-serial {display: flex;flex-direction: column;align-items: center;background-color: white;padding-right: 0.2em;padding-left: 0.2em;position: relative;}#sk-container-id-4 div.sk-item {position: relative;z-index: 1;}#sk-container-id-4 div.sk-parallel {display: flex;align-items: stretch;justify-content: center;background-color: white;position: relative;}#sk-container-id-4 div.sk-item::before, #sk-container-id-4 div.sk-parallel-item::before {content: \"\";position: absolute;border-left: 1px solid gray;box-sizing: border-box;top: 0;bottom: 0;left: 50%;z-index: -1;}#sk-container-id-4 div.sk-parallel-item {display: flex;flex-direction: column;z-index: 1;position: relative;background-color: white;}#sk-container-id-4 div.sk-parallel-item:first-child::after {align-self: flex-end;width: 50%;}#sk-container-id-4 div.sk-parallel-item:last-child::after {align-self: flex-start;width: 50%;}#sk-container-id-4 div.sk-parallel-item:only-child::after {width: 0;}#sk-container-id-4 div.sk-dashed-wrapped {border: 1px dashed gray;margin: 0 0.4em 0.5em 0.4em;box-sizing: border-box;padding-bottom: 0.4em;background-color: white;}#sk-container-id-4 div.sk-label label {font-family: monospace;font-weight: bold;display: inline-block;line-height: 1.2em;}#sk-container-id-4 div.sk-label-container {text-align: center;}#sk-container-id-4 div.sk-container {/* jupyter's `normalize.less` sets `[hidden] { display: none; }` but bootstrap.min.css set `[hidden] { display: none !important; }` so we also need the `!important` here to be able to override the default hidden behavior on the sphinx rendered scikit-learn.org. See: https://github.com/scikit-learn/scikit-learn/issues/21755 */display: inline-block !important;position: relative;}#sk-container-id-4 div.sk-text-repr-fallback {display: none;}</style><div id=\"sk-container-id-4\" class=\"sk-top-container\"><div class=\"sk-text-repr-fallback\"><pre>Pipeline(steps=[(&#x27;tfidf&#x27;, TfidfVectorizer()),\n",
       "                (&#x27;clf&#x27;, RandomForestClassifier())])</pre><b>In a Jupyter environment, please rerun this cell to show the HTML representation or trust the notebook. <br />On GitHub, the HTML representation is unable to render, please try loading this page with nbviewer.org.</b></div><div class=\"sk-container\" hidden><div class=\"sk-item sk-dashed-wrapped\"><div class=\"sk-label-container\"><div class=\"sk-label sk-toggleable\"><input class=\"sk-toggleable__control sk-hidden--visually\" id=\"sk-estimator-id-10\" type=\"checkbox\" ><label for=\"sk-estimator-id-10\" class=\"sk-toggleable__label sk-toggleable__label-arrow\">Pipeline</label><div class=\"sk-toggleable__content\"><pre>Pipeline(steps=[(&#x27;tfidf&#x27;, TfidfVectorizer()),\n",
       "                (&#x27;clf&#x27;, RandomForestClassifier())])</pre></div></div></div><div class=\"sk-serial\"><div class=\"sk-item\"><div class=\"sk-estimator sk-toggleable\"><input class=\"sk-toggleable__control sk-hidden--visually\" id=\"sk-estimator-id-11\" type=\"checkbox\" ><label for=\"sk-estimator-id-11\" class=\"sk-toggleable__label sk-toggleable__label-arrow\">TfidfVectorizer</label><div class=\"sk-toggleable__content\"><pre>TfidfVectorizer()</pre></div></div></div><div class=\"sk-item\"><div class=\"sk-estimator sk-toggleable\"><input class=\"sk-toggleable__control sk-hidden--visually\" id=\"sk-estimator-id-12\" type=\"checkbox\" ><label for=\"sk-estimator-id-12\" class=\"sk-toggleable__label sk-toggleable__label-arrow\">RandomForestClassifier</label><div class=\"sk-toggleable__content\"><pre>RandomForestClassifier()</pre></div></div></div></div></div></div></div>"
      ],
      "text/plain": [
       "Pipeline(steps=[('tfidf', TfidfVectorizer()),\n",
       "                ('clf', RandomForestClassifier())])"
      ]
     },
     "execution_count": 39,
     "metadata": {},
     "output_type": "execute_result"
    }
   ],
   "source": [
    "# Créer le pipeline avec TfidfVectorizer et RandomForestClassifier\n",
    "pipeline_random_forest = Pipeline([\n",
    "    ('tfidf', TfidfVectorizer()),\n",
    "    ('clf', RandomForestClassifier())\n",
    "])\n",
    "\n",
    "# Entraîner le modèle sur data1\n",
    "pipeline_random_forest.fit(data1['Title'], data1['Speciality'])"
   ]
  },
  {
   "cell_type": "markdown",
   "id": "7e9fc6eb",
   "metadata": {},
   "source": [
    "# IV Evaluation"
   ]
  },
  {
   "cell_type": "code",
   "execution_count": 41,
   "id": "529d8a01",
   "metadata": {},
   "outputs": [
    {
     "name": "stdout",
     "output_type": "stream",
     "text": [
      "Random Forest: Accuracy = 0.8421\n",
      "k-NN: Accuracy = 0.7895\n",
      "Logistic Regression: Accuracy = 0.7368\n",
      "AdaBoost: Accuracy = 0.6842\n"
     ]
    }
   ],
   "source": [
    "# Créer une liste des noms de modèles et de leurs pipelines correspondants\n",
    "models = {\n",
    "    'k-NN': pipeline_knn,\n",
    "    'AdaBoost': pipeline_adaboost,\n",
    "    'Logistic Regression': pipeline_logistic,\n",
    "    'Random Forest': pipeline_random_forest\n",
    "}\n",
    "\n",
    "# Dictionnaire pour stocker les précisions de chaque modèle\n",
    "accuracies = {}\n",
    "\n",
    "# Calculer l'exactitude de chaque modèle sur les données de test\n",
    "for name, model in models.items():\n",
    "    # Entraîner le modèle sur les données d'entraînement\n",
    "    model.fit(X_train, y_train)\n",
    "    # Prédire les étiquettes de classe sur les données de test\n",
    "    y_pred = model.predict(X_test)\n",
    "    # Calculer l'exactitude\n",
    "    accuracy = accuracy_score(y_test, y_pred)\n",
    "    # Stocker l'exactitude dans le dictionnaire\n",
    "    accuracies[name] = accuracy\n",
    "\n",
    "# Trier les modèles par exactitude décroissante\n",
    "sorted_accuracies = sorted(accuracies.items(), key=lambda x: x[1], reverse=True)\n",
    "\n",
    "# Afficher les résultats\n",
    "for name, accuracy in sorted_accuracies:\n",
    "    print(f'{name}: Accuracy = {accuracy:.4f}')\n"
   ]
  },
  {
   "cell_type": "code",
   "execution_count": 49,
   "id": "52919831",
   "metadata": {},
   "outputs": [
    {
     "name": "stdout",
     "output_type": "stream",
     "text": [
      "Précision du modèle k-NN : 0.8157894736842105\n",
      "Rapport de classification du modèle k-NN :\n",
      "               precision    recall  f1-score   support\n",
      "\n",
      "       BI&BD       1.00      0.82      0.90        11\n",
      "          CL       0.75      1.00      0.86         3\n",
      "         DWM       0.76      1.00      0.86        19\n",
      "          ES       0.00      0.00      0.00         5\n",
      "\n",
      "    accuracy                           0.82        38\n",
      "   macro avg       0.63      0.70      0.66        38\n",
      "weighted avg       0.73      0.82      0.76        38\n",
      "\n",
      "Précision du modèle AdaBoost : 0.5263157894736842\n",
      "Rapport de classification du modèle AdaBoost :\n",
      "               precision    recall  f1-score   support\n",
      "\n",
      "       BI&BD       0.00      0.00      0.00        11\n",
      "          CL       0.50      0.33      0.40         3\n",
      "         DWM       0.53      1.00      0.69        19\n",
      "          ES       0.00      0.00      0.00         5\n",
      "\n",
      "    accuracy                           0.53        38\n",
      "   macro avg       0.26      0.33      0.27        38\n",
      "weighted avg       0.30      0.53      0.38        38\n",
      "\n",
      "Précision du modèle de régression logistique : 0.6052631578947368\n",
      "Rapport de classification du modèle de régression logistique :\n",
      "               precision    recall  f1-score   support\n",
      "\n",
      "       BI&BD       1.00      0.36      0.53        11\n",
      "          CL       0.00      0.00      0.00         3\n",
      "         DWM       0.56      1.00      0.72        19\n",
      "          ES       0.00      0.00      0.00         5\n",
      "\n",
      "    accuracy                           0.61        38\n",
      "   macro avg       0.39      0.34      0.31        38\n",
      "weighted avg       0.57      0.61      0.51        38\n",
      "\n",
      "Précision du modèle de Random Forest : 0.7368421052631579\n",
      "Rapport de classification du modèle de Random Forest :\n",
      "               precision    recall  f1-score   support\n",
      "\n",
      "       BI&BD       1.00      0.73      0.84        11\n",
      "          CL       1.00      0.33      0.50         3\n",
      "         DWM       0.66      1.00      0.79        19\n",
      "          ES       0.00      0.00      0.00         5\n",
      "\n",
      "    accuracy                           0.74        38\n",
      "   macro avg       0.66      0.52      0.53        38\n",
      "weighted avg       0.70      0.74      0.68        38\n",
      "\n"
     ]
    },
    {
     "name": "stderr",
     "output_type": "stream",
     "text": [
      "C:\\Users\\MSII\\anaconda3\\lib\\site-packages\\sklearn\\metrics\\_classification.py:1344: UndefinedMetricWarning: Precision and F-score are ill-defined and being set to 0.0 in labels with no predicted samples. Use `zero_division` parameter to control this behavior.\n",
      "  _warn_prf(average, modifier, msg_start, len(result))\n",
      "C:\\Users\\MSII\\anaconda3\\lib\\site-packages\\sklearn\\metrics\\_classification.py:1344: UndefinedMetricWarning: Precision and F-score are ill-defined and being set to 0.0 in labels with no predicted samples. Use `zero_division` parameter to control this behavior.\n",
      "  _warn_prf(average, modifier, msg_start, len(result))\n",
      "C:\\Users\\MSII\\anaconda3\\lib\\site-packages\\sklearn\\metrics\\_classification.py:1344: UndefinedMetricWarning: Precision and F-score are ill-defined and being set to 0.0 in labels with no predicted samples. Use `zero_division` parameter to control this behavior.\n",
      "  _warn_prf(average, modifier, msg_start, len(result))\n",
      "C:\\Users\\MSII\\anaconda3\\lib\\site-packages\\sklearn\\metrics\\_classification.py:1344: UndefinedMetricWarning: Precision and F-score are ill-defined and being set to 0.0 in labels with no predicted samples. Use `zero_division` parameter to control this behavior.\n",
      "  _warn_prf(average, modifier, msg_start, len(result))\n",
      "C:\\Users\\MSII\\anaconda3\\lib\\site-packages\\sklearn\\metrics\\_classification.py:1344: UndefinedMetricWarning: Precision and F-score are ill-defined and being set to 0.0 in labels with no predicted samples. Use `zero_division` parameter to control this behavior.\n",
      "  _warn_prf(average, modifier, msg_start, len(result))\n",
      "C:\\Users\\MSII\\anaconda3\\lib\\site-packages\\sklearn\\metrics\\_classification.py:1344: UndefinedMetricWarning: Precision and F-score are ill-defined and being set to 0.0 in labels with no predicted samples. Use `zero_division` parameter to control this behavior.\n",
      "  _warn_prf(average, modifier, msg_start, len(result))\n",
      "C:\\Users\\MSII\\anaconda3\\lib\\site-packages\\sklearn\\metrics\\_classification.py:1344: UndefinedMetricWarning: Precision and F-score are ill-defined and being set to 0.0 in labels with no predicted samples. Use `zero_division` parameter to control this behavior.\n",
      "  _warn_prf(average, modifier, msg_start, len(result))\n",
      "C:\\Users\\MSII\\anaconda3\\lib\\site-packages\\sklearn\\metrics\\_classification.py:1344: UndefinedMetricWarning: Precision and F-score are ill-defined and being set to 0.0 in labels with no predicted samples. Use `zero_division` parameter to control this behavior.\n",
      "  _warn_prf(average, modifier, msg_start, len(result))\n",
      "C:\\Users\\MSII\\anaconda3\\lib\\site-packages\\sklearn\\metrics\\_classification.py:1344: UndefinedMetricWarning: Precision and F-score are ill-defined and being set to 0.0 in labels with no predicted samples. Use `zero_division` parameter to control this behavior.\n",
      "  _warn_prf(average, modifier, msg_start, len(result))\n",
      "C:\\Users\\MSII\\anaconda3\\lib\\site-packages\\sklearn\\metrics\\_classification.py:1344: UndefinedMetricWarning: Precision and F-score are ill-defined and being set to 0.0 in labels with no predicted samples. Use `zero_division` parameter to control this behavior.\n",
      "  _warn_prf(average, modifier, msg_start, len(result))\n",
      "C:\\Users\\MSII\\anaconda3\\lib\\site-packages\\sklearn\\metrics\\_classification.py:1344: UndefinedMetricWarning: Precision and F-score are ill-defined and being set to 0.0 in labels with no predicted samples. Use `zero_division` parameter to control this behavior.\n",
      "  _warn_prf(average, modifier, msg_start, len(result))\n",
      "C:\\Users\\MSII\\anaconda3\\lib\\site-packages\\sklearn\\metrics\\_classification.py:1344: UndefinedMetricWarning: Precision and F-score are ill-defined and being set to 0.0 in labels with no predicted samples. Use `zero_division` parameter to control this behavior.\n",
      "  _warn_prf(average, modifier, msg_start, len(result))\n"
     ]
    }
   ],
   "source": [
    "from sklearn.metrics import classification_report, accuracy_score\n",
    "\n",
    "# Évaluer le modèle sur data_selected_random\n",
    "accuracy_knn = pipeline_knn.score(data_selected_random['Title'], data_selected_random['Speciality'])\n",
    "print(\"Précision du modèle k-NN :\", accuracy_knn)\n",
    "\n",
    "# Obtenir les prédictions du modèle k-NN\n",
    "y_pred_knn = pipeline_knn.predict(data_selected_random['Title'])\n",
    "\n",
    "# Afficher le rapport de classification du modèle k-NN\n",
    "report_knn = classification_report(data_selected_random['Speciality'], y_pred_knn)\n",
    "print(\"Rapport de classification du modèle k-NN :\\n\", report_knn)\n",
    "\n",
    "# Évaluer le modèle AdaBoost sur data_selected_random\n",
    "accuracy_adaboost = pipeline_adaboost.score(data_selected_random['Title'], data_selected_random['Speciality'])\n",
    "print(\"Précision du modèle AdaBoost :\", accuracy_adaboost)\n",
    "\n",
    "# Obtenir les prédictions du modèle AdaBoost\n",
    "y_pred_adaboost = pipeline_adaboost.predict(data_selected_random['Title'])\n",
    "\n",
    "# Afficher le rapport de classification du modèle AdaBoost\n",
    "report_adaboost = classification_report(data_selected_random['Speciality'], y_pred_adaboost)\n",
    "print(\"Rapport de classification du modèle AdaBoost :\\n\", report_adaboost)\n",
    "\n",
    "# Évaluer le modèle de régression logistique sur data_selected_random\n",
    "accuracy_logistic = pipeline_logistic.score(data_selected_random['Title'], data_selected_random['Speciality'])\n",
    "print(\"Précision du modèle de régression logistique :\", accuracy_logistic)\n",
    "\n",
    "# Obtenir les prédictions du modèle de régression logistique\n",
    "y_pred_logistic = pipeline_logistic.predict(data_selected_random['Title'])\n",
    "\n",
    "# Afficher le rapport de classification du modèle de régression logistique\n",
    "report_logistic = classification_report(data_selected_random['Speciality'], y_pred_logistic)\n",
    "print(\"Rapport de classification du modèle de régression logistique :\\n\", report_logistic)\n",
    "\n",
    "# Évaluer le modèle de Random Forest sur data_selected_random\n",
    "accuracy_random_forest = pipeline_random_forest.score(data_selected_random['Title'], data_selected_random['Speciality'])\n",
    "print(\"Précision du modèle de Random Forest :\", accuracy_random_forest)\n",
    "\n",
    "# Obtenir les prédictions du modèle de Random Forest\n",
    "y_pred_random_forest = pipeline_random_forest.predict(data_selected_random['Title'])\n",
    "\n",
    "# Afficher le rapport de classification du modèle de Random Forest\n",
    "report_random_forest = classification_report(data_selected_random['Speciality'], y_pred_random_forest)\n",
    "print(\"Rapport de classification du modèle de Random Forest :\\n\", report_random_forest)\n"
   ]
  },
  {
   "cell_type": "code",
   "execution_count": 47,
   "id": "c4f3d487",
   "metadata": {},
   "outputs": [],
   "source": []
  },
  {
   "cell_type": "code",
   "execution_count": 42,
   "id": "255dc52f",
   "metadata": {},
   "outputs": [
    {
     "data": {
      "image/png": "[encoded data removed]",
      "text/plain": [
       "<Figure size 1000x600 with 1 Axes>"
      ]
     },
     "metadata": {},
     "output_type": "display_data"
    }
   ],
   "source": [
    "# Créer une liste des noms de modèles et de leurs pipelines correspondants\n",
    "models = {\n",
    "    'k-NN': pipeline_knn,\n",
    "    'AdaBoost': pipeline_adaboost,\n",
    "    'Logistic Regression': pipeline_logistic,\n",
    "    'Random Forest': pipeline_random_forest\n",
    "}\n",
    "\n",
    "# Dictionnaire pour stocker les précisions de chaque modèle\n",
    "accuracies = {}\n",
    "\n",
    "# Calculer l'exactitude de chaque modèle sur les données de test\n",
    "for name, model in models.items():\n",
    "    # Entraîner le modèle sur les données d'entraînement\n",
    "    model.fit(X_train, y_train)\n",
    "    # Prédire les étiquettes de classe sur les données de test\n",
    "    y_pred = model.predict(X_test)\n",
    "    # Calculer l'exactitude\n",
    "    accuracy = accuracy_score(y_test, y_pred)\n",
    "    # Stocker l'exactitude dans le dictionnaire\n",
    "    accuracies[name] = accuracy\n",
    "\n",
    "# Créer une liste de noms de modèles et d'exactitudes correspondantes\n",
    "model_names = list(accuracies.keys())\n",
    "accuracies_values = list(accuracies.values())\n",
    "\n",
    "# Tracer les barres pour chaque modèle\n",
    "plt.figure(figsize=(10, 6))\n",
    "plt.bar(model_names, accuracies_values, color='skyblue')\n",
    "\n",
    "# Ajouter des titres et des étiquettes\n",
    "plt.xlabel('Modèles')\n",
    "plt.ylabel('Exactitude')\n",
    "plt.title('Exactitude des différents modèles')\n",
    "plt.ylim(0, 1)  # Limiter l'axe y entre 0 et 1 pour l'exactitude\n",
    "plt.xticks(rotation=45)  # Rotation des étiquettes sur l'axe x pour une meilleure lisibilité\n",
    "plt.grid(axis='y', linestyle='--', alpha=0.7)  # Ajouter une grille pour une meilleure lisibilité\n",
    "\n",
    "# Afficher le graphique\n",
    "plt.tight_layout()  # Ajuster automatiquement les espaces pour éviter la superposition\n",
    "plt.show()\n"
   ]
  },
  {
   "cell_type": "markdown",
   "id": "0f4ba55a",
   "metadata": {},
   "source": [
    "# V Déploiement"
   ]
  },
  {
   "cell_type": "code",
   "execution_count": 43,
   "id": "b9bb0a50",
   "metadata": {},
   "outputs": [
    {
     "name": "stderr",
     "output_type": "stream",
     "text": [
      "2024-05-09 02:55:56.671 WARNING streamlit.runtime.state.session_state_proxy: Session state does not function when running a script without `streamlit run`\n",
      "2024-05-09 02:55:57.038 \n",
      "  \u001b[33m\u001b[1mWarning:\u001b[0m to view this Streamlit app on a browser, run it with the following\n",
      "  command:\n",
      "\n",
      "    streamlit run C:\\Users\\MSII\\anaconda3\\lib\\site-packages\\ipykernel_launcher.py [ARGUMENTS]\n"
     ]
    }
   ],
   "source": [
    "# Entraîner tous les modèles sur les données d'entraînement\n",
    "# Remplacez X_train et y_train par vos données d'entraînement\n",
    "# Assurez-vous également d'avoir initialisé et entraîné tous les pipelines avant cela\n",
    "models = {\n",
    "    'k-NN': pipeline_knn,\n",
    "    'AdaBoost': pipeline_adaboost,\n",
    "    'Logistic Regression': pipeline_logistic,\n",
    "    'Random Forest': pipeline_random_forest\n",
    "}\n",
    "\n",
    "accuracies = {}\n",
    "for name, model in models.items():\n",
    "    model.fit(X_train, y_train)\n",
    "    y_pred = model.predict(X_test)\n",
    "    accuracies[name] = accuracy_score(y_test, y_pred)\n",
    "\n",
    "# Choisir le modèle avec la meilleure exactitude\n",
    "best_model_name = max(accuracies, key=accuracies.get)\n",
    "best_model = models[best_model_name]\n",
    "\n",
    "# Sauvegarder le modèle dans un fichier\n",
    "with open('best_model.pkl', 'wb') as f:\n",
    "    pickle.dump(best_model, f)\n",
    "\n",
    "# Charger le modèle à partir du fichier\n",
    "def load_model():\n",
    "    with open('best_model.pkl', 'rb') as f:\n",
    "        model = pickle.load(f)\n",
    "    return model\n",
    "\n",
    "# Utiliser le modèle pour faire des prédictions avec Streamlit\n",
    "intitule = st.text_input(\"Intitulé de l'offre d'emploi\", \"\")\n",
    "description = st.text_area(\"Description de l'offre d'emploi\", \"\")\n",
    "\n",
    "if intitule.strip() == '' or description.strip() == '':\n",
    "    st.error(\"Veuillez entrer l'intitulé et la description de l'offre d'emploi.\")\n",
    "else:\n",
    "    intitule_description = intitule + ' ' + description\n",
    "    model = load_model()\n",
    "    prediction = model.predict([intitule_description])\n",
    "    st.markdown(f\"<p style='font-size:24px; font-weight:bold;'>La classe prédite pour cette offre d'emploi est : {prediction[0]}</p>\", unsafe_allow_html=True)\n"
   ]
  },
  {
   "cell_type": "code",
   "execution_count": null,
   "id": "3649065a",
   "metadata": {},
   "outputs": [],
   "source": []
  },
  {
   "cell_type": "code",
   "execution_count": null,
   "id": "fba4775e",
   "metadata": {},
   "outputs": [],
   "source": []
  }
 ],
 "metadata": {
  "kernelspec": {
   "display_name": "Python 3 (ipykernel)",
   "language": "python",
   "name": "python3"
  },
  "language_info": {
   "codemirror_mode": {
    "name": "ipython",
    "version": 3
   },
   "file_extension": ".py",
   "mimetype": "text/x-python",
   "name": "python",
   "nbconvert_exporter": "python",
   "pygments_lexer": "ipython3",
   "version": "3.10.9"
  }
 },
 "nbformat": 4,
 "nbformat_minor": 5
}
